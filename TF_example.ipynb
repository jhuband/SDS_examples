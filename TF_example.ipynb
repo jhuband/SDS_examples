{
 "cells": [
  {
   "cell_type": "markdown",
   "metadata": {},
   "source": [
    "## TensorFlow Example"
   ]
  },
  {
   "cell_type": "markdown",
   "metadata": {},
   "source": [
    "#### Load the Keras Packages"
   ]
  },
  {
   "cell_type": "code",
   "execution_count": null,
   "metadata": {},
   "outputs": [],
   "source": [
    "from keras.models import Sequential \n",
    "from keras.layers import Dense, Dropout \n",
    "from keras.utils import to_categorical \n",
    "from keras.optimizers import SGD\n",
    "\n"
   ]
  },
  {
   "cell_type": "markdown",
   "metadata": {},
   "source": [
    "#### Read in the Data"
   ]
  },
  {
   "cell_type": "code",
   "execution_count": null,
   "metadata": {},
   "outputs": [],
   "source": [
    "import numpy as np\n",
    "data_file = 'Data/cancer_data.csv'\n",
    "target_file = 'Data/cancer_target.csv'\n",
    "cancer_data=np.loadtxt(data_file,dtype=float,delimiter=',')\n",
    "cancer_target=np.loadtxt(target_file, dtype=float, delimiter=',')\n"
   ]
  },
  {
   "cell_type": "markdown",
   "metadata": {},
   "source": [
    "#### Split the Data"
   ]
  },
  {
   "cell_type": "code",
   "execution_count": null,
   "metadata": {},
   "outputs": [],
   "source": [
    "from sklearn import model_selection\n",
    "test_size = 0.30\n",
    "seed = 7\n",
    "train_data, test_data, train_target, test_target = model_selection.train_test_split(cancer_data,\n",
    "        cancer_target, test_size=test_size, \n",
    "        random_state=seed)\n"
   ]
  },
  {
   "cell_type": "markdown",
   "metadata": {},
   "source": [
    "#### Pre-process the Data"
   ]
  },
  {
   "cell_type": "code",
   "execution_count": null,
   "metadata": {},
   "outputs": [],
   "source": [
    "from sklearn.preprocessing import StandardScaler \n",
    "scaler = StandardScaler()\n",
    "# Fit only to the training data \n",
    "scaler.fit(train_data)\n",
    "\n",
    "# Now apply the transformations to the data: \n",
    "x_train = scaler.transform(train_data) \n",
    "x_test = scaler.transform(test_data)\n",
    "\n",
    "# Convert the classes to ‘one-hot’ vector \n",
    "y_train = to_categorical(train_target, num_classes=2) \n",
    "y_test = to_categorical(test_target, num_classes=2)\n",
    "\n"
   ]
  },
  {
   "cell_type": "markdown",
   "metadata": {},
   "source": [
    "#### Define the Model"
   ]
  },
  {
   "cell_type": "code",
   "execution_count": null,
   "metadata": {},
   "outputs": [],
   "source": [
    "model = Sequential() \n",
    "# in the first layer, you must specify the expected \n",
    "#input data shape\n",
    "# here, 30-dimensional vectors. \n",
    "model.add(Dense(30, activation='relu', input_dim=30)) \n",
    "model.add(Dropout(0.5)) \n",
    "model.add(Dense(60, activation='relu')) \n",
    "model.add(Dropout(0.5)) \n",
    "model.add(Dense(2, activation='softmax')) \n",
    "print(model.summary())\n"
   ]
  },
  {
   "cell_type": "markdown",
   "metadata": {},
   "source": [
    "#### Configure the Learning Process"
   ]
  },
  {
   "cell_type": "code",
   "execution_count": null,
   "metadata": {},
   "outputs": [],
   "source": [
    "sgd = SGD(lr=0.01, decay=1e-6, momentum=0.9, nesterov=True) \n",
    "model.compile(loss='categorical_crossentropy', optimizer=sgd, metrics=['accuracy'])\n",
    "\n"
   ]
  },
  {
   "cell_type": "markdown",
   "metadata": {},
   "source": [
    "#### Fit the Model"
   ]
  },
  {
   "cell_type": "code",
   "execution_count": null,
   "metadata": {},
   "outputs": [],
   "source": [
    "b_size = int(.8*x_train.shape[0])\n",
    "\n",
    "model.fit(x_train, y_train, epochs=300, batch_size=b_size)\n",
    "\n"
   ]
  },
  {
   "cell_type": "markdown",
   "metadata": {},
   "source": [
    "#### Apply the Model to Test Data"
   ]
  },
  {
   "cell_type": "code",
   "execution_count": null,
   "metadata": {},
   "outputs": [],
   "source": [
    "predictions = model.predict_classes(x_test)\n"
   ]
  },
  {
   "cell_type": "markdown",
   "metadata": {},
   "source": [
    "#### Evaluate the Results\n"
   ]
  },
  {
   "cell_type": "code",
   "execution_count": null,
   "metadata": {},
   "outputs": [],
   "source": [
    "score = model.evaluate(x_test, y_test, batch_size=b_size) \n",
    "print('\\nAccuracy:  %.3f' % score[1])\n",
    "from sklearn.metrics import confusion_matrix \n",
    "print(confusion_matrix(test_target, predictions))\n"
   ]
  }
 ],
 "metadata": {
  "kernelspec": {
   "display_name": "Tensorflow 1.12/Keras Py3.6",
   "language": "python",
   "name": "tensorflow112_py36"
  },
  "language_info": {
   "codemirror_mode": {
    "name": "ipython",
    "version": 3
   },
   "file_extension": ".py",
   "mimetype": "text/x-python",
   "name": "python",
   "nbconvert_exporter": "python",
   "pygments_lexer": "ipython3",
   "version": "3.6.5"
  }
 },
 "nbformat": 4,
 "nbformat_minor": 4
}
